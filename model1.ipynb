{
 "cells": [
  {
   "cell_type": "code",
   "execution_count": 1,
   "metadata": {},
   "outputs": [],
   "source": [
    "import torch\n",
    "import torch.nn as nn\n",
    "from torch.utils.data import DataLoader\n",
    "import torch.optim as optim\n",
    "from FPN import Features, FPNetwork , classificationhead , bboxhead\n",
    "from Loss import Lossfunction\n",
    "from dataset_convert import AnchorGenerator, FaceDetectionDataset\n",
    "device = torch.device(\"mps\")"
   ]
  },
  {
   "cell_type": "code",
   "execution_count": 15,
   "metadata": {},
   "outputs": [
    {
     "name": "stderr",
     "output_type": "stream",
     "text": [
      "Using cache found in /Users/vipulagarwal/.cache/torch/hub/pytorch_vision_v0.10.0\n"
     ]
    }
   ],
   "source": [
    "model = torch.hub.load('pytorch/vision:v0.10.0', 'mobilenet_v2', pretrained=True)\n",
    "model = model.features.to(device)"
   ]
  },
  {
   "cell_type": "code",
   "execution_count": 8,
   "metadata": {},
   "outputs": [
    {
     "name": "stderr",
     "output_type": "stream",
     "text": [
      "/var/folders/pc/3dvbqf1x7ts37h_0ccg5yh5r0000gn/T/ipykernel_11214/1332796123.py:1: FutureWarning: You are using `torch.load` with `weights_only=False` (the current default value), which uses the default pickle module implicitly. It is possible to construct malicious pickle data which will execute arbitrary code during unpickling (See https://github.com/pytorch/pytorch/blob/main/SECURITY.md#untrusted-models for more details). In a future release, the default value for `weights_only` will be flipped to `True`. This limits the functions that could be executed during unpickling. Arbitrary objects will no longer be allowed to be loaded via this mode unless they are explicitly allowlisted by the user via `torch.serialization.add_safe_globals`. We recommend you start setting `weights_only=True` for any use case where you don't have full control of the loaded file. Please open an issue on GitHub for any issues related to this experimental feature.\n",
      "  train_data = torch.load(\"/Users/vipulagarwal/Documents/AI & ML/Projects/New_FR/version2/faces2.0/path/to/data/widerface/dataset640.pt\")\n",
      "/var/folders/pc/3dvbqf1x7ts37h_0ccg5yh5r0000gn/T/ipykernel_11214/1332796123.py:2: FutureWarning: You are using `torch.load` with `weights_only=False` (the current default value), which uses the default pickle module implicitly. It is possible to construct malicious pickle data which will execute arbitrary code during unpickling (See https://github.com/pytorch/pytorch/blob/main/SECURITY.md#untrusted-models for more details). In a future release, the default value for `weights_only` will be flipped to `True`. This limits the functions that could be executed during unpickling. Arbitrary objects will no longer be allowed to be loaded via this mode unless they are explicitly allowlisted by the user via `torch.serialization.add_safe_globals`. We recommend you start setting `weights_only=True` for any use case where you don't have full control of the loaded file. Please open an issue on GitHub for any issues related to this experimental feature.\n",
      "  val_data = torch.load(\"/Users/vipulagarwal/Documents/AI & ML/Projects/New_FR/version2/faces2.0/path/to/data/widerface/val_data640.pt\")\n"
     ]
    }
   ],
   "source": [
    "train_data = torch.load(\"/Users/vipulagarwal/Documents/AI & ML/Projects/New_FR/version2/faces2.0/path/to/data/widerface/dataset640.pt\")\n",
    "val_data = torch.load(\"/Users/vipulagarwal/Documents/AI & ML/Projects/New_FR/version2/faces2.0/path/to/data/widerface/val_data640.pt\")\n"
   ]
  },
  {
   "cell_type": "code",
   "execution_count": 16,
   "metadata": {},
   "outputs": [],
   "source": [
    "extractor = Features(model,['3','6', '13','18'])\n",
    "topdown = FPNetwork(out_channels=256)\n",
    "classifier = classificationhead(channels=256, num_anchors= 12, num_of_classes= 1)\n",
    "bboxregression = bboxhead(channels= 256 , num_anchors= 12)\n",
    "loss =Lossfunction()\n",
    "anchors = AnchorGenerator()\n",
    "data = FaceDetectionDataset(train_data,anchors)\n",
    "vali_data = FaceDetectionDataset(val_data,anchors)"
   ]
  },
  {
   "cell_type": "code",
   "execution_count": 10,
   "metadata": {},
   "outputs": [],
   "source": [
    "# hyperparametrs\n",
    "batch_size = 16\n",
    "epochs = 1\n",
    "learning_rate = 1e-3"
   ]
  },
  {
   "cell_type": "code",
   "execution_count": 11,
   "metadata": {},
   "outputs": [],
   "source": [
    "training_data = DataLoader(data, batch_size=batch_size, shuffle = True)\n",
    "validation_data = DataLoader(vali_data, batch_size=batch_size, shuffle = True)"
   ]
  },
  {
   "cell_type": "code",
   "execution_count": 12,
   "metadata": {},
   "outputs": [],
   "source": [
    "\n",
    "def forward(p):\n",
    "    features = extractor.extract(p)\n",
    "    newfeatures = topdown(features)\n",
    "    output = {}\n",
    "    for key in list(newfeatures.keys()):\n",
    "        temp = {}\n",
    "        temp[\"bbox\"] = bboxregression(newfeatures[key])\n",
    "        temp[\"cls\"] = classifier(newfeatures[key])\n",
    "        output[key] = temp\n",
    "        \n",
    "    return output\n",
    "\n",
    "def train(epochs:int,training_data , validation_data=None):\n",
    "    extractor.train()\n",
    "    topdown.train()\n",
    "    classifier.train()\n",
    "    bboxregression.train()\n",
    "    optimizer = optim.Adam(list(extractor.parameters())+\n",
    "                           list(topdown.parameters())+\n",
    "                           list(classifier.parameters())+\n",
    "                           list(bboxregression.parameters()), lr=learning_rate)\n",
    "    loSS = {}\n",
    "    for i in range (0,epochs):\n",
    "        train_loss= 0\n",
    "        for key, (image,target) in enumerate(training_data):\n",
    "            epoch_loss = {}\n",
    "            model_pred = forward(image)\n",
    "            optimizer.zero_grad()\n",
    "            ll = loss(model_pred, target)\n",
    "            train_loss+=ll\n",
    "            if (key % 10 == 0):\n",
    "                epoch_loss[key] = train_loss/10\n",
    "                print(f\"The avg loss for {key}th data is {train_loss/10}\")\n",
    "                train_loss = 0    \n",
    "            ll.backward()\n",
    "            optimizer.step()\n",
    "        loSS[i] = epoch_loss\n",
    "    return loSS"
   ]
  },
  {
   "cell_type": "code",
   "execution_count": 20,
   "metadata": {},
   "outputs": [
    {
     "name": "stdout",
     "output_type": "stream",
     "text": [
      "7452536\n"
     ]
    }
   ],
   "source": [
    "total_params=sum(p.numel() for p in extractor.parameters())\n",
    "total_params+= sum(p.numel() for p in topdown.parameters())\n",
    "total_params+= sum(p.numel() for p in classifier.parameters())\n",
    "total_params+= sum(p.numel() for p in bboxregression.parameters())\n",
    "\n",
    "print(total_params)"
   ]
  },
  {
   "cell_type": "code",
   "execution_count": 25,
   "metadata": {},
   "outputs": [
    {
     "data": {
      "text/plain": [
       "(tensor([[[0.4863, 0.4863, 0.4863,  ..., 0.5843, 0.7961, 0.9843],\n",
       "          [0.1569, 0.1569, 0.1569,  ..., 0.3020, 0.6745, 0.9804],\n",
       "          [0.1451, 0.1451, 0.1451,  ..., 0.3020, 0.6706, 0.9882],\n",
       "          ...,\n",
       "          [0.2510, 0.2667, 0.2745,  ..., 0.2275, 0.6392, 1.0000],\n",
       "          [0.2471, 0.2510, 0.2471,  ..., 0.2510, 0.6471, 0.9961],\n",
       "          [0.2784, 0.2627, 0.2392,  ..., 0.2510, 0.6471, 0.9961]],\n",
       " \n",
       "         [[0.5373, 0.5373, 0.5373,  ..., 0.5961, 0.8039, 0.9882],\n",
       "          [0.2118, 0.2118, 0.2118,  ..., 0.3098, 0.6745, 0.9765],\n",
       "          [0.2039, 0.2039, 0.2039,  ..., 0.2980, 0.6667, 0.9804],\n",
       "          ...,\n",
       "          [0.2784, 0.2941, 0.3020,  ..., 0.2314, 0.6392, 1.0000],\n",
       "          [0.2745, 0.2745, 0.2745,  ..., 0.2549, 0.6471, 0.9922],\n",
       "          [0.3020, 0.2863, 0.2627,  ..., 0.2549, 0.6471, 0.9922]],\n",
       " \n",
       "         [[0.6314, 0.6314, 0.6314,  ..., 0.6353, 0.8078, 0.9529],\n",
       "          [0.4039, 0.4039, 0.4039,  ..., 0.4039, 0.7137, 0.9804],\n",
       "          [0.4667, 0.4667, 0.4667,  ..., 0.4353, 0.7373, 1.0000],\n",
       "          ...,\n",
       "          [0.1176, 0.1333, 0.1412,  ..., 0.1686, 0.6000, 0.9843],\n",
       "          [0.1176, 0.1176, 0.1176,  ..., 0.1922, 0.6078, 0.9765],\n",
       "          [0.1529, 0.1373, 0.1137,  ..., 0.1922, 0.6078, 0.9765]]]),\n",
       " [{'cls_targets': tensor([0, 0, 0,  ..., 0, 0, 0], device='mps:0'),\n",
       "   'bbox_targets': tensor([[0., 0., 0., 0.],\n",
       "           [0., 0., 0., 0.],\n",
       "           [0., 0., 0., 0.],\n",
       "           ...,\n",
       "           [0., 0., 0., 0.],\n",
       "           [0., 0., 0., 0.],\n",
       "           [0., 0., 0., 0.]], device='mps:0'),\n",
       "   'bbox_weights': tensor([0., 0., 0.,  ..., 0., 0., 0.], device='mps:0')},\n",
       "  {'cls_targets': tensor([0, 0, 0,  ..., 0, 0, 0], device='mps:0'),\n",
       "   'bbox_targets': tensor([[0., 0., 0., 0.],\n",
       "           [0., 0., 0., 0.],\n",
       "           [0., 0., 0., 0.],\n",
       "           ...,\n",
       "           [0., 0., 0., 0.],\n",
       "           [0., 0., 0., 0.],\n",
       "           [0., 0., 0., 0.]], device='mps:0'),\n",
       "   'bbox_weights': tensor([0., 0., 0.,  ..., 0., 0., 0.], device='mps:0')},\n",
       "  {'cls_targets': tensor([0, 0, 0,  ..., 0, 0, 0], device='mps:0'),\n",
       "   'bbox_targets': tensor([[0., 0., 0., 0.],\n",
       "           [0., 0., 0., 0.],\n",
       "           [0., 0., 0., 0.],\n",
       "           ...,\n",
       "           [0., 0., 0., 0.],\n",
       "           [0., 0., 0., 0.],\n",
       "           [0., 0., 0., 0.]], device='mps:0'),\n",
       "   'bbox_weights': tensor([0., 0., 0.,  ..., 0., 0., 0.], device='mps:0')},\n",
       "  {'cls_targets': tensor([0, 0, 0,  ..., 0, 0, 0], device='mps:0'),\n",
       "   'bbox_targets': tensor([[0., 0., 0., 0.],\n",
       "           [0., 0., 0., 0.],\n",
       "           [0., 0., 0., 0.],\n",
       "           ...,\n",
       "           [0., 0., 0., 0.],\n",
       "           [0., 0., 0., 0.],\n",
       "           [0., 0., 0., 0.]], device='mps:0'),\n",
       "   'bbox_weights': tensor([0., 0., 0.,  ..., 0., 0., 0.], device='mps:0')}])"
      ]
     },
     "execution_count": 25,
     "metadata": {},
     "output_type": "execute_result"
    }
   ],
   "source": [
    "data[0]"
   ]
  },
  {
   "cell_type": "code",
   "execution_count": 24,
   "metadata": {},
   "outputs": [
    {
     "data": {
      "text/plain": [
       "11"
      ]
     },
     "execution_count": 24,
     "metadata": {},
     "output_type": "execute_result"
    }
   ],
   "source": [
    "a =5 \n",
    "int.__add__(a,6)"
   ]
  }
 ],
 "metadata": {
  "kernelspec": {
   "display_name": "base",
   "language": "python",
   "name": "python3"
  },
  "language_info": {
   "codemirror_mode": {
    "name": "ipython",
    "version": 3
   },
   "file_extension": ".py",
   "mimetype": "text/x-python",
   "name": "python",
   "nbconvert_exporter": "python",
   "pygments_lexer": "ipython3",
   "version": "3.12.7"
  }
 },
 "nbformat": 4,
 "nbformat_minor": 2
}
