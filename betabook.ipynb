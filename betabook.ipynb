{
 "cells": [
  {
   "cell_type": "code",
   "execution_count": 72,
   "metadata": {},
   "outputs": [],
   "source": [
    "import torch\n",
    "import random\n",
    "import math\n",
    "from torchvision.transforms import transforms\n",
    "from datasets import load_dataset"
   ]
  },
  {
   "cell_type": "code",
   "execution_count": 73,
   "metadata": {},
   "outputs": [],
   "source": [
    "device = torch.device(\"mps\")\n",
    "device = torch.device(\"cuda\" if torch.cuda.is_available() else \"cpu\")\n"
   ]
  },
  {
   "cell_type": "code",
   "execution_count": 74,
   "metadata": {},
   "outputs": [],
   "source": [
    "dataset = load_dataset(\"CUHK-CSE/wider_face\")\n",
    "\n",
    "# Convert to PyTorch format\n",
    "train_dataset = dataset['train'].with_format(\"torch\")\n",
    "val_dataset = dataset['validation'].with_format(\"torch\")"
   ]
  },
  {
   "cell_type": "code",
   "execution_count": 4,
   "metadata": {},
   "outputs": [
    {
     "data": {
      "text/plain": [
       "datasets.arrow_dataset.Dataset"
      ]
     },
     "execution_count": 4,
     "metadata": {},
     "output_type": "execute_result"
    }
   ],
   "source": [
    "type(train_dataset)"
   ]
  },
  {
   "cell_type": "code",
   "execution_count": 98,
   "metadata": {},
   "outputs": [],
   "source": [
    "p= random.randint(0,12000)\n",
    "t= train_dataset[p]['image']"
   ]
  },
  {
   "cell_type": "code",
   "execution_count": 97,
   "metadata": {},
   "outputs": [
    {
     "data": {
      "text/plain": [
       "tensor(656.7657)"
      ]
     },
     "execution_count": 97,
     "metadata": {},
     "output_type": "execute_result"
    }
   ],
   "source": [
    "transforms.Normalize(mean=(0.485, 0.456, 0.406), std=(0.229, 0.224, 0.225))(t.to(torch.float))[0].mean()\n",
    "\n"
   ]
  },
  {
   "cell_type": "code",
   "execution_count": 102,
   "metadata": {},
   "outputs": [],
   "source": [
    "yu = transforms.Compose([\n",
    "            transforms.Resize((640, 640)),\n",
    "            transforms.Normalize(mean=(0.485, 0.456, 0.406), std=(0.229, 0.224, 0.225))\n",
    "        ])"
   ]
  },
  {
   "cell_type": "code",
   "execution_count": 88,
   "metadata": {},
   "outputs": [
    {
     "data": {
      "text/plain": [
       "torch.Size([3, 661, 1024])"
      ]
     },
     "execution_count": 88,
     "metadata": {},
     "output_type": "execute_result"
    }
   ],
   "source": [
    "t.shape"
   ]
  },
  {
   "cell_type": "code",
   "execution_count": 103,
   "metadata": {},
   "outputs": [
    {
     "data": {
      "text/plain": [
       "tensor(0.9280)"
      ]
     },
     "execution_count": 103,
     "metadata": {},
     "output_type": "execute_result"
    }
   ],
   "source": [
    "p= yu(t.to(torch.float)/255)\n",
    "p.mean()"
   ]
  },
  {
   "cell_type": "code",
   "execution_count": 113,
   "metadata": {},
   "outputs": [],
   "source": [
    "class FaceDetectionDataset(torch.utils.data.Dataset):\n",
    "    def __init__(self, widerface_dataset, anchor_generator):\n",
    "        self.dataset = widerface_dataset\n",
    "        self.anchor_generator = anchor_generator\n",
    "        self.transforms = transforms.Compose([\n",
    "            transforms.Resize((640, 640)),\n",
    "            transforms.Normalize((0.485, 0.456, 0.406), (0.229, 0.224, 0.225))\n",
    "        ])\n",
    "    def __len__(self):\n",
    "        return len(self.dataset)\n",
    "    \n",
    "    def __getitem__(self, idx):\n",
    "        data= self.dataset[idx]\n",
    "        data['faces']['bbox'][:,0]=(data['faces'][\"bbox\"][:,0]*(640/1024))\n",
    "        data['faces']['bbox'][:,1]=(data['faces'][\"bbox\"][:,1]*(640/data['image'].numpy().shape[1]))\n",
    "        data['faces']['bbox'][:,2]=(data['faces'][\"bbox\"][:,2]*(640/1024))\n",
    "        data['faces']['bbox'][:,3]=(data['faces'][\"bbox\"][:,3]*(640/data['image'].numpy().shape[1]))\n",
    "        \n",
    "        gt_boxes = data['faces']['bbox'].to(device)  # Shape: [num_faces, 4]\n",
    "        image = self.transforms(data['image'].to(torch.float)/255)\n",
    "        all_anchors = self.anchor_generator.generate_anchors()#feature_map_sizes)\n",
    "        targets = []\n",
    "        for level, anchors in enumerate(all_anchors):\n",
    "            level_targets = self.assign_targets(gt_boxes, anchors)\n",
    "            targets.append(level_targets)\n",
    "            \n",
    "        return image, targets\n",
    "    \n",
    "    def assign_targets(self, gt_boxes, anchors, pos_threshold=0.5, neg_threshold=0.2):\n",
    "        \"\"\"Assign ground truth boxes to anchors\"\"\"\n",
    "        num_anchors = len(anchors)\n",
    "        \n",
    "        if len(gt_boxes) == 0:\n",
    "            # No faces in image\n",
    "            return {\n",
    "                'cls_targets': torch.zeros(num_anchors, dtype=torch.long).to(device),\n",
    "                'bbox_targets': torch.zeros(num_anchors, 4).to(device),\n",
    "                'bbox_weights': torch.zeros(num_anchors).to(device)\n",
    "            }\n",
    "        \n",
    "        # Compute IoU between all anchors and ground truth boxes\n",
    "        ious = self.compute_iou(anchors, gt_boxes)  # [num_anchors, num_gt]\n",
    "        \n",
    "        # Find best matching ground truth for each anchor\n",
    "        max_iou_per_anchor, max_iou_indices = ious.max(dim=1)\n",
    "        \n",
    "        # Initialize targets\n",
    "        cls_targets = torch.zeros(num_anchors, dtype=torch.long).to(device)  # 0: background\n",
    "        bbox_targets = torch.zeros(num_anchors, 4).to(device)\n",
    "        bbox_weights = torch.zeros(num_anchors).to(device)\n",
    "        \n",
    "        # Positive samples (IoU > pos_threshold)\n",
    "        positive_mask = max_iou_per_anchor > pos_threshold\n",
    "        # print(positive_mask)\n",
    "        cls_targets[positive_mask] = 1  # Face class\n",
    "        bbox_weights[positive_mask] = 1.0\n",
    "        \n",
    "        # Negative samples (IoU < neg_threshold)\n",
    "        negative_mask = max_iou_per_anchor < neg_threshold\n",
    "        cls_targets[negative_mask] = 0  # Background class\n",
    "        \n",
    "        \n",
    "        # Encode bbox targets for positive samples\n",
    "        if positive_mask.sum() > 0:\n",
    "            positive_anchors = anchors[positive_mask]\n",
    "            assigned_gt = gt_boxes[max_iou_indices[positive_mask]]\n",
    "            bbox_targets[positive_mask] = self.encode_bbox_targets(assigned_gt, positive_anchors)\n",
    "\n",
    "        return {\n",
    "            'cls_targets': cls_targets,\n",
    "            'bbox_targets': bbox_targets,\n",
    "            'bbox_weights': bbox_weights\n",
    "        }\n",
    "    \n",
    "    def compute_iou(self, anchors, gt_boxes):\n",
    "        \"\"\"Compute IoU between anchors and ground truth boxes\"\"\"\n",
    "        # anchors: [num_anchors, 4] in [x1, y1, w, b] format\n",
    "        # gt_boxes: [num_gt, 4] in [x1, y1, w, b] format\n",
    "        \n",
    "        num_anchors = anchors.size(0)\n",
    "        num_gt = gt_boxes.size(0)\n",
    "        \n",
    "        # Expand dimensions for broadcasting\n",
    "        anchors = anchors.unsqueeze(1).expand(num_anchors, num_gt, 4)\n",
    "        gt_boxes = gt_boxes.unsqueeze(0).expand(num_anchors, num_gt, 4)\n",
    "        \n",
    "        # Compute union\n",
    "        anchor_area = anchors[:, :, 2] * anchors[:, :, 3]\n",
    "        gt_area     = gt_boxes[:, :, 2] * gt_boxes[:, :, 3]\n",
    "\n",
    "        # Compute intersection\n",
    "        inter_x1 = torch.max(anchors[:, :, 0], gt_boxes[:, :, 0])   #x1   \n",
    "        inter_y1 = torch.max(anchors[:, :, 1], gt_boxes[:, :, 1])   #y1\n",
    "        inter_x2 = torch.min(anchors[:, :, 2]+anchors[:,:,0], gt_boxes[:, :, 2]+gt_boxes[:,:,0])   #x2\n",
    "        inter_y2 = torch.min(anchors[:, :, 3]+anchors[:,:,1], gt_boxes[:, :, 3]+gt_boxes[:,:,1])   #y2\n",
    "        \n",
    "        inter_area = torch.clamp(inter_x2 - inter_x1, min=0) * torch.clamp(inter_y2 - inter_y1, min=0)\n",
    "        union_area  = anchor_area + gt_area - inter_area\n",
    "\n",
    "        # Compute IoU\n",
    "        iou = inter_area / torch.clamp(union_area, min=1e-6)\n",
    "  \n",
    "        return iou.to(device)\n",
    "    \n",
    "    def encode_bbox_targets(self, gt_boxes, anchors):\n",
    "        \"\"\"Encode ground truth boxes relative to anchors\"\"\"\n",
    "        # Convert to center format\n",
    "        anchor_widths = anchors[:, 2]\n",
    "        anchor_heights = anchors[:, 3]\n",
    "        anchor_cx = anchors[:, 0] + 0.5 * anchor_widths\n",
    "        anchor_cy = anchors[:, 1] + 0.5 * anchor_heights\n",
    "        \n",
    "        gt_widths = gt_boxes[:, 2]\n",
    "        gt_heights = gt_boxes[:, 3]\n",
    "        gt_cx = gt_boxes[:, 0] + 0.5 * gt_widths\n",
    "        gt_cy = gt_boxes[:, 1] + 0.5 * gt_heights\n",
    "        \n",
    "        # Encode as offsets\n",
    "        target_dx = (gt_cx - anchor_cx) / anchor_widths\n",
    "        target_dy = (gt_cy - anchor_cy) / anchor_heights\n",
    "        target_dw = torch.log(gt_widths / anchor_widths)\n",
    "        target_dh = torch.log(gt_heights / anchor_heights)\n",
    "        x=torch.stack([target_dx, target_dy, target_dw, target_dh], dim=1).to(device)\n",
    "        return x\n",
    "    \n",
    "class AnchorGenerator:\n",
    "    def __init__(self):\n",
    "        # Define scales and aspect ratios for each FPN level\n",
    "        self.scales = [128, 64, 32, 16]\n",
    "        \n",
    "        self.aspect_ratios = [0.5, 1.0, 2.0]  # Common face aspect ratios\n",
    "        self.anchor_scales = [2**0, 2**(1/3), 2**(2/3), 0.5]  # Sub-octave scales\n",
    "        \n",
    "        # FPN level strides\n",
    "        self.strides = [32, 16, 8, 4 ]  # Corresponding to your FPN levels\n",
    "        \n",
    "    def generate_anchors(self, feature_map_sizes = [(20,20),(40,40),(80,80),(160,160)]):\n",
    "        \"\"\"Generate anchors for all FPN levels\"\"\"\n",
    "        all_anchors = []\n",
    "        # feature_map_sizes = [(20,20),(40,40),(80,80),(160,160)] example\n",
    "        for level, (h, w) in enumerate(feature_map_sizes):\n",
    "            level_anchors = self.generate_level_anchors(\n",
    "                h, w, self.scales[level], self.strides[level]\n",
    "            )\n",
    "            all_anchors.append(level_anchors)\n",
    "            \n",
    "        return all_anchors\n",
    "    \n",
    "    def generate_level_anchors(self, h, w, base_size, stride):\n",
    "        \"\"\"Generate anchors for a single FPN level\"\"\"\n",
    "        anchors = []\n",
    "        \n",
    "        for i in range(h):\n",
    "            for j in range(w):\n",
    "                cx = (j + 0.5) * stride\n",
    "                cy = (i + 0.5) * stride\n",
    "                \n",
    "                for aspect_ratio in self.aspect_ratios:\n",
    "                    for scale in self.anchor_scales:\n",
    "                        anchor_w = base_size * scale * math.sqrt(aspect_ratio)\n",
    "                        anchor_h = base_size * scale / math.sqrt(aspect_ratio)\n",
    "\n",
    "                        x1 = cx - anchor_w / 2\n",
    "                        y1 = cy - anchor_h / 2\n",
    "                        anchors.append([x1, y1,anchor_w ,anchor_h ])\n",
    "        \n",
    "        return torch.tensor(anchors, dtype=torch.float32,device=device)"
   ]
  },
  {
   "cell_type": "code",
   "execution_count": 3,
   "metadata": {},
   "outputs": [
    {
     "name": "stderr",
     "output_type": "stream",
     "text": [
      "/var/folders/pc/3dvbqf1x7ts37h_0ccg5yh5r0000gn/T/ipykernel_10642/300018616.py:1: FutureWarning: You are using `torch.load` with `weights_only=False` (the current default value), which uses the default pickle module implicitly. It is possible to construct malicious pickle data which will execute arbitrary code during unpickling (See https://github.com/pytorch/pytorch/blob/main/SECURITY.md#untrusted-models for more details). In a future release, the default value for `weights_only` will be flipped to `True`. This limits the functions that could be executed during unpickling. Arbitrary objects will no longer be allowed to be loaded via this mode unless they are explicitly allowlisted by the user via `torch.serialization.add_safe_globals`. We recommend you start setting `weights_only=True` for any use case where you don't have full control of the loaded file. Please open an issue on GitHub for any issues related to this experimental feature.\n",
      "  train_data = torch.load(\"/Users/vipulagarwal/Documents/AI & ML/Projects/New_FR/version2/Faces/path/to/data/widerface/dataset640.pt\")\n"
     ]
    }
   ],
   "source": [
    "train_data = torch.load(\"/Users/vipulagarwal/Documents/AI & ML/Projects/New_FR/version2/Faces/path/to/data/widerface/dataset640.pt\")"
   ]
  },
  {
   "cell_type": "code",
   "execution_count": 4,
   "metadata": {},
   "outputs": [
    {
     "data": {
      "text/plain": [
       "torch.Size([3, 640, 640])"
      ]
     },
     "execution_count": 4,
     "metadata": {},
     "output_type": "execute_result"
    }
   ],
   "source": [
    "train_data[10][0].shape"
   ]
  },
  {
   "cell_type": "code",
   "execution_count": 114,
   "metadata": {},
   "outputs": [],
   "source": [
    "anchors = AnchorGenerator()\n",
    "data = FaceDetectionDataset(train_dataset,anchors)"
   ]
  },
  {
   "cell_type": "code",
   "execution_count": 128,
   "metadata": {},
   "outputs": [
    {
     "data": {
      "text/plain": [
       "tensor([[-1.8097, -1.8097, -1.8097,  ..., -2.0152, -2.0152, -2.0152],\n",
       "        [-1.8003, -1.8003, -1.8003,  ..., -2.0058, -2.0058, -2.0058],\n",
       "        [-1.7827, -1.7827, -1.7827,  ..., -1.9882, -1.9882, -1.9882],\n",
       "        ...,\n",
       "        [ 0.1547,  0.1466,  0.1243,  ..., -1.8782, -1.8782, -1.8782],\n",
       "        [ 0.1383,  0.1370,  0.1209,  ..., -1.8782, -1.8782, -1.8782],\n",
       "        [ 0.1266,  0.1261,  0.1168,  ..., -1.8782, -1.8782, -1.8782]])"
      ]
     },
     "execution_count": 128,
     "metadata": {},
     "output_type": "execute_result"
    }
   ],
   "source": [
    "p = random.randint(0,12000)\n",
    "\n",
    "data[p][0][0]\n"
   ]
  },
  {
   "cell_type": "code",
   "execution_count": null,
   "metadata": {},
   "outputs": [],
   "source": []
  },
  {
   "cell_type": "code",
   "execution_count": 317,
   "metadata": {},
   "outputs": [
    {
     "data": {
      "text/plain": [
       "torch.Size([307200])"
      ]
     },
     "execution_count": 317,
     "metadata": {},
     "output_type": "execute_result"
    }
   ],
   "source": [
    "b[3]['bbox_weights'].shape"
   ]
  },
  {
   "cell_type": "code",
   "execution_count": null,
   "metadata": {},
   "outputs": [],
   "source": []
  },
  {
   "cell_type": "code",
   "execution_count": 304,
   "metadata": {},
   "outputs": [
    {
     "data": {
      "text/plain": [
       "tensor([[0.3380, 0.6641, 0.5175, 0.4189],\n",
       "        [0.6805, 0.3822, 0.5092, 0.1715],\n",
       "        [0.8499, 0.0025, 0.8600, 0.7029],\n",
       "        [0.6352, 0.2331, 0.6498, 0.6296],\n",
       "        [0.2366, 0.0570, 0.2339, 0.6934],\n",
       "        [0.2538, 0.2464, 0.8708, 0.4682],\n",
       "        [0.0964, 0.2842, 0.2327, 0.4903],\n",
       "        [0.2552, 0.8487, 0.9077, 0.4221],\n",
       "        [0.6321, 0.2230, 0.4359, 0.4213],\n",
       "        [0.5845, 0.0700, 0.5979, 0.2093],\n",
       "        [0.0901, 0.3750, 0.5760, 0.4699],\n",
       "        [0.2809, 0.2196, 0.7002, 0.4048]])"
      ]
     },
     "execution_count": 304,
     "metadata": {},
     "output_type": "execute_result"
    }
   ],
   "source": [
    "a= torch.rand((12,4))\n",
    "a"
   ]
  },
  {
   "cell_type": "code",
   "execution_count": 305,
   "metadata": {},
   "outputs": [
    {
     "data": {
      "text/plain": [
       "torch.return_types.max(\n",
       "values=tensor([0.6641, 0.6805, 0.8600, 0.6498, 0.6934, 0.8708, 0.4903, 0.9077, 0.6321,\n",
       "        0.5979, 0.5760, 0.7002]),\n",
       "indices=tensor([1, 0, 2, 2, 3, 2, 3, 2, 0, 2, 2, 2]))"
      ]
     },
     "execution_count": 305,
     "metadata": {},
     "output_type": "execute_result"
    }
   ],
   "source": [
    "a.max(dim=1)"
   ]
  }
 ],
 "metadata": {
  "kernelspec": {
   "display_name": "base",
   "language": "python",
   "name": "python3"
  },
  "language_info": {
   "codemirror_mode": {
    "name": "ipython",
    "version": 3
   },
   "file_extension": ".py",
   "mimetype": "text/x-python",
   "name": "python",
   "nbconvert_exporter": "python",
   "pygments_lexer": "ipython3",
   "version": "3.12.7"
  }
 },
 "nbformat": 4,
 "nbformat_minor": 2
}
