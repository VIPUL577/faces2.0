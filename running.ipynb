{
 "cells": [
  {
   "cell_type": "code",
   "execution_count": 1,
   "metadata": {},
   "outputs": [
    {
     "name": "stderr",
     "output_type": "stream",
     "text": [
      "/home/faces2.0/.conda/lib/python3.12/site-packages/tqdm/auto.py:21: TqdmWarning: IProgress not found. Please update jupyter and ipywidgets. See https://ipywidgets.readthedocs.io/en/stable/user_install.html\n",
      "  from .autonotebook import tqdm as notebook_tqdm\n"
     ]
    }
   ],
   "source": [
    "import torch\n",
    "import torch.nn as nn\n",
    "from torch.utils.data import DataLoader\n",
    "import torch.optim as optim\n",
    "import torch.multiprocessing as mp\n",
    "from FPN import Features, FPNetwork , classificationhead , bboxhead\n",
    "from Loss import Lossfunction\n",
    "from datasets import load_dataset\n",
    "import torch.optim as optim\n",
    "from torch.cuda.amp import  GradScaler\n",
    "from torch.amp import autocast\n",
    "import gc\n",
    "from dataset_convert import AnchorGenerator, FaceDetectionDataset\n",
    "# device = torch.device(\"mps\")\n",
    "device = torch.device(\"cuda\" if torch.cuda.is_available() else \"cpu\")"
   ]
  },
  {
   "cell_type": "code",
   "execution_count": 2,
   "metadata": {},
   "outputs": [
    {
     "name": "stderr",
     "output_type": "stream",
     "text": [
      "Using cache found in /home/.cache/torch/hub/pytorch_vision_v0.10.0\n",
      "/home/faces2.0/.conda/lib/python3.12/site-packages/torchvision/models/_utils.py:208: UserWarning: The parameter 'pretrained' is deprecated since 0.13 and may be removed in the future, please use 'weights' instead.\n",
      "  warnings.warn(\n",
      "/home/faces2.0/.conda/lib/python3.12/site-packages/torchvision/models/_utils.py:223: UserWarning: Arguments other than a weight enum or `None` for 'weights' are deprecated since 0.13 and may be removed in the future. The current behavior is equivalent to passing `weights=MobileNet_V2_Weights.IMAGENET1K_V1`. You can also use `weights=MobileNet_V2_Weights.DEFAULT` to get the most up-to-date weights.\n",
      "  warnings.warn(msg)\n"
     ]
    }
   ],
   "source": [
    "model = torch.hub.load('pytorch/vision:v0.10.0', 'mobilenet_v2', pretrained=True)\n",
    "model = model.features.to(device)"
   ]
  },
  {
   "cell_type": "code",
   "execution_count": 3,
   "metadata": {},
   "outputs": [],
   "source": [
    "dataset = load_dataset(\"CUHK-CSE/wider_face\")\n",
    "train_dataset = dataset['train'].with_format(\"torch\")\n",
    "val_dataset = dataset['validation'].with_format(\"torch\")"
   ]
  },
  {
   "cell_type": "code",
   "execution_count": 4,
   "metadata": {},
   "outputs": [],
   "source": [
    "extractor = Features(model,['3','6', '13','18'])\n",
    "topdown = FPNetwork(out_channels=256)\n",
    "classifier = classificationhead(channels=256, num_anchors= 12, num_of_classes= 1)\n",
    "bboxregression = bboxhead(channels= 256 , num_anchors= 12)\n",
    "loss =Lossfunction(lambd=10)\n",
    "anchors = AnchorGenerator()\n",
    "data = FaceDetectionDataset(train_dataset,anchors)\n",
    "vali_data = FaceDetectionDataset(val_dataset,anchors)"
   ]
  },
  {
   "cell_type": "code",
   "execution_count": null,
   "metadata": {},
   "outputs": [],
   "source": [
    "# (extractor.state_dict(),'/home/faces2.0/models/extractor.pt')\n",
    "# torch.save(topdown.state_dict(),'/home/faces2.0/models/topdown.pt')\n",
    "# torch.save(classifier.state_dict(),'/home/faces2.0/models/classifier.pt')\n",
    "# torch.save(bboxregression.state_dict(),'/home/faces2.0/models/bboxregression.pt')"
   ]
  },
  {
   "cell_type": "code",
   "execution_count": 47,
   "metadata": {},
   "outputs": [
    {
     "data": {
      "text/plain": [
       "<All keys matched successfully>"
      ]
     },
     "execution_count": 47,
     "metadata": {},
     "output_type": "execute_result"
    }
   ],
   "source": [
    "sd_extractor = torch.load('/home/faces2.0/models/extractor.pt',map_location=torch.device('cpu'))\n",
    "sd_classifier = torch.load('/home/faces2.0/models/classifier.pt',map_location=torch.device('cpu'))\n",
    "sd_bboxregression = torch.load('/home/faces2.0/models/bboxregression.pt',map_location=torch.device('cpu'))\n",
    "sd_topdown = torch.load('/home/faces2.0/models/topdown.pt',map_location=torch.device('cpu'))\n",
    "\n",
    "extractor.load_state_dict(sd_extractor)\n",
    "topdown.load_state_dict(sd_topdown)\n",
    "classifier.load_state_dict(sd_classifier)\n",
    "bboxregression.load_state_dict(sd_bboxregression)\n"
   ]
  },
  {
   "cell_type": "code",
   "execution_count": 33,
   "metadata": {},
   "outputs": [],
   "source": [
    "def forward(p):\n",
    "    features = extractor.extract(p)\n",
    "    newfeatures = topdown(features)\n",
    "    output = {}\n",
    "    for key in list(newfeatures.keys()):\n",
    "        temp = {}\n",
    "        temp[\"bbox\"] = bboxregression(newfeatures[key])\n",
    "        temp[\"cls\"] = classifier(newfeatures[key])\n",
    "        output[key] = temp\n",
    "    return output"
   ]
  },
  {
   "cell_type": "code",
   "execution_count": 55,
   "metadata": {},
   "outputs": [],
   "source": [
    "class Forward:\n",
    "    def __init__(self, extractor, topdown, bboxregression, classifier):\n",
    "        self.extractor=extractor\n",
    "        # self.extractor = Features(extractor,['3','6', '13','18'])\n",
    "        self.topdown = topdown\n",
    "        self.bboxregression = bboxregression\n",
    "        self.classifier = classifier\n",
    "        \n",
    "    def __call__(self, inp):\n",
    "        self.raw_features = self.extractor.extract(inp)\n",
    "        self.newfeatures = self.topdown(self.raw_features)\n",
    "        output = {}\n",
    "        for key in list(self.newfeatures.keys()):\n",
    "            temp = {}\n",
    "            temp[\"bbox\"] = self.bboxregression(self.newfeatures[key])\n",
    "            temp[\"cls\"] = self.classifier(self.newfeatures[key])\n",
    "            output[key] = temp\n",
    "            self.output = output\n",
    "        return self.output        "
   ]
  },
  {
   "cell_type": "code",
   "execution_count": 60,
   "metadata": {},
   "outputs": [],
   "source": [
    "fd= Forward(extractor=extractor,\n",
    "            topdown=topdown,\n",
    "            bboxregression=bboxregression,\n",
    "            classifier=classifier\n",
    "            )"
   ]
  },
  {
   "cell_type": "code",
   "execution_count": 57,
   "metadata": {},
   "outputs": [],
   "source": [
    "inp= data[200][0].unsqueeze(0).cuda()"
   ]
  },
  {
   "cell_type": "code",
   "execution_count": 58,
   "metadata": {},
   "outputs": [],
   "source": [
    "loss = Lossfunction()"
   ]
  },
  {
   "cell_type": "code",
   "execution_count": 61,
   "metadata": {},
   "outputs": [],
   "source": [
    "s = fd(inp)\n",
    "kk=data[200][1]"
   ]
  },
  {
   "cell_type": "code",
   "execution_count": 62,
   "metadata": {},
   "outputs": [
    {
     "name": "stdout",
     "output_type": "stream",
     "text": [
      "torch.Size([4800, 1])\n",
      "tensor(0)\n",
      "torch.Size([19200, 1])\n",
      "tensor(12)\n",
      "torch.Size([76800, 1])\n",
      "tensor(69)\n",
      "torch.Size([307200, 1])\n",
      "tensor(178)\n"
     ]
    }
   ],
   "source": [
    "for key in range(0,4):\n",
    "    print(kk[key]['cls_targets'].shape)\n",
    "    print(kk[key]['cls_targets'].sum())"
   ]
  },
  {
   "cell_type": "code",
   "execution_count": 63,
   "metadata": {},
   "outputs": [
    {
     "data": {
      "text/plain": [
       "tensor([[[0.5000],\n",
       "         [0.5000],\n",
       "         [0.5000],\n",
       "         ...,\n",
       "         [0.4986],\n",
       "         [0.4986],\n",
       "         [0.4986]]], device='cuda:0', grad_fn=<SigmoidBackward0>)"
      ]
     },
     "execution_count": 63,
     "metadata": {},
     "output_type": "execute_result"
    }
   ],
   "source": [
    "(torch.sigmoid(s['3']['cls']))"
   ]
  },
  {
   "cell_type": "code",
   "execution_count": 64,
   "metadata": {},
   "outputs": [
    {
     "name": "stdout",
     "output_type": "stream",
     "text": [
      "box loss:0.4609232246875763\n",
      "cls loss:0.38423848152160645\n"
     ]
    },
    {
     "data": {
      "text/plain": [
       "tensor(0.8452, device='cuda:0', grad_fn=<AddBackward0>)"
      ]
     },
     "execution_count": 64,
     "metadata": {},
     "output_type": "execute_result"
    }
   ],
   "source": [
    "loss(s, kk)"
   ]
  },
  {
   "cell_type": "code",
   "execution_count": 67,
   "metadata": {},
   "outputs": [
    {
     "name": "stdout",
     "output_type": "stream",
     "text": [
      "box loss:0.7665533423423767\n",
      "cls loss:7.646162986755371\n"
     ]
    },
    {
     "data": {
      "text/plain": [
       "tensor(8.4127, device='cuda:0', grad_fn=<AddBackward0>)"
      ]
     },
     "execution_count": 67,
     "metadata": {},
     "output_type": "execute_result"
    }
   ],
   "source": [
    "loss(s, data[0][1])\n"
   ]
  },
  {
   "cell_type": "code",
   "execution_count": null,
   "metadata": {},
   "outputs": [],
   "source": []
  },
  {
   "cell_type": "code",
   "execution_count": 45,
   "metadata": {},
   "outputs": [
    {
     "name": "stdout",
     "output_type": "stream",
     "text": [
      "torch.Size([1, 24, 160, 160])\n",
      "tensor(0.0034, grad_fn=<MeanBackward0>)\n",
      "torch.Size([1, 32, 80, 80])\n",
      "tensor(-0.0042, grad_fn=<MeanBackward0>)\n",
      "torch.Size([1, 96, 40, 40])\n",
      "tensor(0.0060, grad_fn=<MeanBackward0>)\n",
      "torch.Size([1, 1280, 20, 20])\n",
      "tensor(0.2237, grad_fn=<MeanBackward0>)\n"
     ]
    }
   ],
   "source": [
    "for i in list(fd.raw_features.keys()):\n",
    "    print (fd.raw_features[i].shape)\n",
    "    print (fd.raw_features[i].mean())\n",
    "    "
   ]
  },
  {
   "cell_type": "code",
   "execution_count": 47,
   "metadata": {},
   "outputs": [
    {
     "name": "stdout",
     "output_type": "stream",
     "text": [
      "torch.Size([1, 256, 20, 20])\n",
      "tensor(-0.1097, grad_fn=<MeanBackward0>)\n",
      "torch.Size([1, 256, 40, 40])\n",
      "tensor(-0.1092, grad_fn=<MeanBackward0>)\n",
      "torch.Size([1, 256, 80, 80])\n",
      "tensor(-0.1187, grad_fn=<MeanBackward0>)\n",
      "torch.Size([1, 256, 160, 160])\n",
      "tensor(-0.1175, grad_fn=<MeanBackward0>)\n"
     ]
    }
   ],
   "source": [
    "for i in list(fd.newfeatures.keys()):\n",
    "    print (fd.newfeatures[i].shape)\n",
    "    print (fd.newfeatures[i].mean())"
   ]
  },
  {
   "cell_type": "code",
   "execution_count": 42,
   "metadata": {},
   "outputs": [
    {
     "name": "stdout",
     "output_type": "stream",
     "text": [
      "box loss:0.13568367063999176\n",
      "cls loss:62838.42578125\n"
     ]
    },
    {
     "data": {
      "text/plain": [
       "tensor(62838.5625, grad_fn=<AddBackward0>)"
      ]
     },
     "execution_count": 42,
     "metadata": {},
     "output_type": "execute_result"
    }
   ],
   "source": [
    "loss(kk, data[0][1])\n"
   ]
  },
  {
   "cell_type": "code",
   "execution_count": 52,
   "metadata": {},
   "outputs": [
    {
     "data": {
      "text/plain": [
       "tensor(0.5135, grad_fn=<MeanBackward0>)"
      ]
     },
     "execution_count": 52,
     "metadata": {},
     "output_type": "execute_result"
    }
   ],
   "source": [
    "model(inp).mean()"
   ]
  },
  {
   "cell_type": "code",
   "execution_count": null,
   "metadata": {},
   "outputs": [],
   "source": []
  }
 ],
 "metadata": {
  "kernelspec": {
   "display_name": "Python 3",
   "language": "python",
   "name": "python3"
  },
  "language_info": {
   "codemirror_mode": {
    "name": "ipython",
    "version": 3
   },
   "file_extension": ".py",
   "mimetype": "text/x-python",
   "name": "python",
   "nbconvert_exporter": "python",
   "pygments_lexer": "ipython3",
   "version": "3.12.11"
  }
 },
 "nbformat": 4,
 "nbformat_minor": 2
}
