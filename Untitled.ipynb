{
 "cells": [
  {
   "cell_type": "code",
   "execution_count": null,
   "id": "534fbd57-0f7c-4988-84f0-8ef8af444b32",
   "metadata": {},
   "outputs": [],
   "source": []
  }
 ],
 "metadata": {
  "kernelspec": {
   "display_name": "",
   "name": ""
  },
  "language_info": {
   "name": ""
  }
 },
 "nbformat": 4,
 "nbformat_minor": 5
}
